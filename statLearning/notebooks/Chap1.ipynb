{
 "cells": [
  {
   "cell_type": "markdown",
   "metadata": {},
   "source": [
    "<h2>Introduction to Statistical Learning with R</h2>"
   ]
  },
  {
   "cell_type": "markdown",
   "metadata": {},
   "source": [
    "<h3>Notas</h3>\n",
    "<br>\n",
    "<h5>Erros</h5><br>\n",
    "\n",
    "<p>Quando criamos um modelo <i>f</i>, que a partir de um conjunto X produza saídas Y, é certo que este estimador não dará resultados precisos - sempre haverá erros. A acurácia de Ŷ (saídas do modelo) dependerá de dois valores, a saber <i>reducible error</i> e <i>irreducible error</i>.</p><br>\n",
    "\n",
    "<p><i><b>Erro redutível: </b></i> O erro é redutível, porque utilizando as melhores técnicas estatísticas podemos minimizar esse erro.</p><br>\n",
    "\n",
    "<p><i><b>Erro irredutível: </b></i> Por melhor que criemos um estimador, sempre haverá um erro. Isso ocorre porque <i>f(X) = Ŷ</i> também é uma função de <strong>ε</strong> que, por definição, não pode ser predito usando X. Ademais, note que em aplicações do mundo real, em geral, trabalhamos com os números reais. Sendo assim, por melhor que seja nossa predição, sempre haverá uma fração de erro.</p><br>\n",
    "\n",
    "<p>E(Y-Ŷ)² = E[f(X) + ε - f(X)]² (considere f chapéu na segunda parcela)</p><br>\n",
    "\n",
    "<p>Então, E(Y-Ŷ)² = E[f(X) - f(X)]² + Var(ε) (considere f chapéu na segunda parcela)</p><br>"
   ]
  },
  {
   "cell_type": "markdown",
   "metadata": {},
   "source": []
  }
 ],
 "metadata": {
  "kernelspec": {
   "display_name": "Python 3",
   "language": "python",
   "name": "python3"
  },
  "language_info": {
   "codemirror_mode": {
    "name": "ipython",
    "version": 3
   },
   "file_extension": ".py",
   "mimetype": "text/x-python",
   "name": "python",
   "nbconvert_exporter": "python",
   "pygments_lexer": "ipython3",
   "version": "3.8.2"
  }
 },
 "nbformat": 4,
 "nbformat_minor": 4
}
