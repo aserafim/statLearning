{
 "cells": [
  {
   "cell_type": "code",
   "execution_count": 1,
   "metadata": {},
   "outputs": [],
   "source": [
    "import os\n",
    "import tarfile\n",
    "from six.moves import urllib\n",
    "import pandas as pd"
   ]
  },
  {
   "cell_type": "code",
   "execution_count": 3,
   "metadata": {},
   "outputs": [],
   "source": [
    "#Change the engine to python to avoid some enconding errors\n",
    "data = pd.read_csv('/home/aserafim/Downloads/cross.csv', engine='python')"
   ]
  },
  {
   "cell_type": "code",
   "execution_count": 4,
   "metadata": {},
   "outputs": [
    {
     "data": {
      "text/html": [
       "<div>\n",
       "<style scoped>\n",
       "    .dataframe tbody tr th:only-of-type {\n",
       "        vertical-align: middle;\n",
       "    }\n",
       "\n",
       "    .dataframe tbody tr th {\n",
       "        vertical-align: top;\n",
       "    }\n",
       "\n",
       "    .dataframe thead th {\n",
       "        text-align: right;\n",
       "    }\n",
       "</style>\n",
       "<table border=\"1\" class=\"dataframe\">\n",
       "  <thead>\n",
       "    <tr style=\"text-align: right;\">\n",
       "      <th></th>\n",
       "      <th>Unnamed: 0</th>\n",
       "      <th>Tem_seguro_resi</th>\n",
       "      <th>bonusnew</th>\n",
       "      <th>SC_REND_DP</th>\n",
       "      <th>sexo_condutor1</th>\n",
       "      <th>Cep8_smb</th>\n",
       "      <th>idade_condutor</th>\n",
       "      <th>MUN_IDHM</th>\n",
       "      <th>tipo_de_residencia</th>\n",
       "      <th>Tipo_Pagamento</th>\n",
       "      <th>grupo_veiculo</th>\n",
       "    </tr>\n",
       "  </thead>\n",
       "  <tbody>\n",
       "    <tr>\n",
       "      <th>0</th>\n",
       "      <td>1</td>\n",
       "      <td>0</td>\n",
       "      <td>0</td>\n",
       "      <td>3500.0</td>\n",
       "      <td>Masculino</td>\n",
       "      <td>3</td>\n",
       "      <td>41</td>\n",
       "      <td>82</td>\n",
       "      <td>C. APARTAMENTO</td>\n",
       "      <td>D�bito</td>\n",
       "      <td>VWVOYAGE1.6FLEX</td>\n",
       "    </tr>\n",
       "    <tr>\n",
       "      <th>1</th>\n",
       "      <td>2</td>\n",
       "      <td>0</td>\n",
       "      <td>1</td>\n",
       "      <td>1400.0</td>\n",
       "      <td>Masculino</td>\n",
       "      <td>3</td>\n",
       "      <td>57</td>\n",
       "      <td>77</td>\n",
       "      <td>A. CASA</td>\n",
       "      <td>D�bito</td>\n",
       "      <td>GMPRISMAFLEX</td>\n",
       "    </tr>\n",
       "    <tr>\n",
       "      <th>2</th>\n",
       "      <td>3</td>\n",
       "      <td>0</td>\n",
       "      <td>1</td>\n",
       "      <td>5800.0</td>\n",
       "      <td>Feminino</td>\n",
       "      <td>3</td>\n",
       "      <td>28</td>\n",
       "      <td>81</td>\n",
       "      <td>C. APARTAMENTO</td>\n",
       "      <td>D�bito</td>\n",
       "      <td>FORDKA1.0</td>\n",
       "    </tr>\n",
       "    <tr>\n",
       "      <th>3</th>\n",
       "      <td>4</td>\n",
       "      <td>0</td>\n",
       "      <td>0</td>\n",
       "      <td>1300.0</td>\n",
       "      <td>Masculino</td>\n",
       "      <td>4</td>\n",
       "      <td>32</td>\n",
       "      <td>81</td>\n",
       "      <td>A. CASA</td>\n",
       "      <td>Ficha</td>\n",
       "      <td>GMVECTRADEMAIS</td>\n",
       "    </tr>\n",
       "    <tr>\n",
       "      <th>4</th>\n",
       "      <td>5</td>\n",
       "      <td>0</td>\n",
       "      <td>0</td>\n",
       "      <td>2200.0</td>\n",
       "      <td>Masculino</td>\n",
       "      <td>3</td>\n",
       "      <td>59</td>\n",
       "      <td>84</td>\n",
       "      <td>A. CASA</td>\n",
       "      <td>D�bito</td>\n",
       "      <td>FIATPUNTOFLEX</td>\n",
       "    </tr>\n",
       "  </tbody>\n",
       "</table>\n",
       "</div>"
      ],
      "text/plain": [
       "   Unnamed: 0  Tem_seguro_resi  bonusnew  SC_REND_DP sexo_condutor1  Cep8_smb  \\\n",
       "0           1                0         0      3500.0      Masculino         3   \n",
       "1           2                0         1      1400.0      Masculino         3   \n",
       "2           3                0         1      5800.0       Feminino         3   \n",
       "3           4                0         0      1300.0      Masculino         4   \n",
       "4           5                0         0      2200.0      Masculino         3   \n",
       "\n",
       "   idade_condutor  MUN_IDHM tipo_de_residencia Tipo_Pagamento    grupo_veiculo  \n",
       "0              41        82     C. APARTAMENTO         D�bito  VWVOYAGE1.6FLEX  \n",
       "1              57        77            A. CASA         D�bito     GMPRISMAFLEX  \n",
       "2              28        81     C. APARTAMENTO         D�bito        FORDKA1.0  \n",
       "3              32        81            A. CASA          Ficha   GMVECTRADEMAIS  \n",
       "4              59        84            A. CASA         D�bito    FIATPUNTOFLEX  "
      ]
     },
     "execution_count": 4,
     "metadata": {},
     "output_type": "execute_result"
    }
   ],
   "source": [
    "data.head()"
   ]
  },
  {
   "cell_type": "code",
   "execution_count": 5,
   "metadata": {},
   "outputs": [
    {
     "name": "stdout",
     "output_type": "stream",
     "text": [
      "<class 'pandas.core.frame.DataFrame'>\n",
      "RangeIndex: 1701135 entries, 0 to 1701134\n",
      "Data columns (total 11 columns):\n",
      " #   Column              Dtype  \n",
      "---  ------              -----  \n",
      " 0   Unnamed: 0          int64  \n",
      " 1   Tem_seguro_resi     int64  \n",
      " 2   bonusnew            int64  \n",
      " 3   SC_REND_DP          float64\n",
      " 4   sexo_condutor1      object \n",
      " 5   Cep8_smb            int64  \n",
      " 6   idade_condutor      int64  \n",
      " 7   MUN_IDHM            int64  \n",
      " 8   tipo_de_residencia  object \n",
      " 9   Tipo_Pagamento      object \n",
      " 10  grupo_veiculo       object \n",
      "dtypes: float64(1), int64(6), object(4)\n",
      "memory usage: 142.8+ MB\n"
     ]
    }
   ],
   "source": [
    "data.info()"
   ]
  },
  {
   "cell_type": "code",
   "execution_count": 9,
   "metadata": {},
   "outputs": [
    {
     "data": {
      "text/plain": [
       "D�bito    775940\n",
       "Ficha     515012\n",
       "Cart�o    410183\n",
       "Name: Tipo_Pagamento, dtype: int64"
      ]
     },
     "execution_count": 9,
     "metadata": {},
     "output_type": "execute_result"
    }
   ],
   "source": [
    "data['tipo_de_residencia'].value_counts()\n",
    "data['Tipo_Pagamento'].value_counts()"
   ]
  },
  {
   "cell_type": "code",
   "execution_count": 11,
   "metadata": {},
   "outputs": [
    {
     "data": {
      "text/plain": [
       "pandas.core.frame.DataFrame"
      ]
     },
     "execution_count": 11,
     "metadata": {},
     "output_type": "execute_result"
    }
   ],
   "source": [
    "type(data)"
   ]
  },
  {
   "cell_type": "code",
   "execution_count": 12,
   "metadata": {},
   "outputs": [
    {
     "data": {
      "text/html": [
       "<div>\n",
       "<style scoped>\n",
       "    .dataframe tbody tr th:only-of-type {\n",
       "        vertical-align: middle;\n",
       "    }\n",
       "\n",
       "    .dataframe tbody tr th {\n",
       "        vertical-align: top;\n",
       "    }\n",
       "\n",
       "    .dataframe thead th {\n",
       "        text-align: right;\n",
       "    }\n",
       "</style>\n",
       "<table border=\"1\" class=\"dataframe\">\n",
       "  <thead>\n",
       "    <tr style=\"text-align: right;\">\n",
       "      <th></th>\n",
       "      <th>Unnamed: 0</th>\n",
       "      <th>Tem_seguro_resi</th>\n",
       "      <th>bonusnew</th>\n",
       "      <th>SC_REND_DP</th>\n",
       "      <th>Cep8_smb</th>\n",
       "      <th>idade_condutor</th>\n",
       "      <th>MUN_IDHM</th>\n",
       "    </tr>\n",
       "  </thead>\n",
       "  <tbody>\n",
       "    <tr>\n",
       "      <th>count</th>\n",
       "      <td>1.701135e+06</td>\n",
       "      <td>1.701135e+06</td>\n",
       "      <td>1.701135e+06</td>\n",
       "      <td>1.700820e+06</td>\n",
       "      <td>1.701135e+06</td>\n",
       "      <td>1.701135e+06</td>\n",
       "      <td>1.701135e+06</td>\n",
       "    </tr>\n",
       "    <tr>\n",
       "      <th>mean</th>\n",
       "      <td>8.505680e+05</td>\n",
       "      <td>2.794487e-02</td>\n",
       "      <td>5.619172e+00</td>\n",
       "      <td>3.816343e+03</td>\n",
       "      <td>8.198021e+00</td>\n",
       "      <td>4.996357e+01</td>\n",
       "      <td>7.719344e+01</td>\n",
       "    </tr>\n",
       "    <tr>\n",
       "      <th>std</th>\n",
       "      <td>4.910755e+05</td>\n",
       "      <td>1.648150e-01</td>\n",
       "      <td>3.695149e+00</td>\n",
       "      <td>3.174109e+03</td>\n",
       "      <td>4.361848e+00</td>\n",
       "      <td>1.337781e+01</td>\n",
       "      <td>4.447874e+00</td>\n",
       "    </tr>\n",
       "    <tr>\n",
       "      <th>min</th>\n",
       "      <td>1.000000e+00</td>\n",
       "      <td>0.000000e+00</td>\n",
       "      <td>0.000000e+00</td>\n",
       "      <td>0.000000e+00</td>\n",
       "      <td>1.000000e+00</td>\n",
       "      <td>-4.470000e+02</td>\n",
       "      <td>5.400000e+01</td>\n",
       "    </tr>\n",
       "    <tr>\n",
       "      <th>25%</th>\n",
       "      <td>4.252845e+05</td>\n",
       "      <td>0.000000e+00</td>\n",
       "      <td>2.000000e+00</td>\n",
       "      <td>1.800000e+03</td>\n",
       "      <td>5.000000e+00</td>\n",
       "      <td>4.000000e+01</td>\n",
       "      <td>7.500000e+01</td>\n",
       "    </tr>\n",
       "    <tr>\n",
       "      <th>50%</th>\n",
       "      <td>8.505680e+05</td>\n",
       "      <td>0.000000e+00</td>\n",
       "      <td>6.000000e+00</td>\n",
       "      <td>2.700000e+03</td>\n",
       "      <td>8.000000e+00</td>\n",
       "      <td>5.000000e+01</td>\n",
       "      <td>7.800000e+01</td>\n",
       "    </tr>\n",
       "    <tr>\n",
       "      <th>75%</th>\n",
       "      <td>1.275852e+06</td>\n",
       "      <td>0.000000e+00</td>\n",
       "      <td>1.000000e+01</td>\n",
       "      <td>4.700000e+03</td>\n",
       "      <td>1.200000e+01</td>\n",
       "      <td>6.000000e+01</td>\n",
       "      <td>8.100000e+01</td>\n",
       "    </tr>\n",
       "    <tr>\n",
       "      <th>max</th>\n",
       "      <td>1.701135e+06</td>\n",
       "      <td>1.000000e+00</td>\n",
       "      <td>1.000000e+01</td>\n",
       "      <td>5.590000e+04</td>\n",
       "      <td>1.500000e+01</td>\n",
       "      <td>1.110000e+02</td>\n",
       "      <td>8.600000e+01</td>\n",
       "    </tr>\n",
       "  </tbody>\n",
       "</table>\n",
       "</div>"
      ],
      "text/plain": [
       "         Unnamed: 0  Tem_seguro_resi      bonusnew    SC_REND_DP  \\\n",
       "count  1.701135e+06     1.701135e+06  1.701135e+06  1.700820e+06   \n",
       "mean   8.505680e+05     2.794487e-02  5.619172e+00  3.816343e+03   \n",
       "std    4.910755e+05     1.648150e-01  3.695149e+00  3.174109e+03   \n",
       "min    1.000000e+00     0.000000e+00  0.000000e+00  0.000000e+00   \n",
       "25%    4.252845e+05     0.000000e+00  2.000000e+00  1.800000e+03   \n",
       "50%    8.505680e+05     0.000000e+00  6.000000e+00  2.700000e+03   \n",
       "75%    1.275852e+06     0.000000e+00  1.000000e+01  4.700000e+03   \n",
       "max    1.701135e+06     1.000000e+00  1.000000e+01  5.590000e+04   \n",
       "\n",
       "           Cep8_smb  idade_condutor      MUN_IDHM  \n",
       "count  1.701135e+06    1.701135e+06  1.701135e+06  \n",
       "mean   8.198021e+00    4.996357e+01  7.719344e+01  \n",
       "std    4.361848e+00    1.337781e+01  4.447874e+00  \n",
       "min    1.000000e+00   -4.470000e+02  5.400000e+01  \n",
       "25%    5.000000e+00    4.000000e+01  7.500000e+01  \n",
       "50%    8.000000e+00    5.000000e+01  7.800000e+01  \n",
       "75%    1.200000e+01    6.000000e+01  8.100000e+01  \n",
       "max    1.500000e+01    1.110000e+02  8.600000e+01  "
      ]
     },
     "execution_count": 12,
     "metadata": {},
     "output_type": "execute_result"
    }
   ],
   "source": [
    "data.describe()"
   ]
  },
  {
   "cell_type": "code",
   "execution_count": 13,
   "metadata": {},
   "outputs": [
    {
     "data": {
      "text/plain": [
       "array([[<matplotlib.axes._subplots.AxesSubplot object at 0x7fec04489970>,\n",
       "        <matplotlib.axes._subplots.AxesSubplot object at 0x7fec04253df0>,\n",
       "        <matplotlib.axes._subplots.AxesSubplot object at 0x7fec0420d2e0>],\n",
       "       [<matplotlib.axes._subplots.AxesSubplot object at 0x7fec041b9730>,\n",
       "        <matplotlib.axes._subplots.AxesSubplot object at 0x7fec03e94b80>,\n",
       "        <matplotlib.axes._subplots.AxesSubplot object at 0x7fec03ebf070>],\n",
       "       [<matplotlib.axes._subplots.AxesSubplot object at 0x7fec03e4d040>,\n",
       "        <matplotlib.axes._subplots.AxesSubplot object at 0x7fec03e258e0>,\n",
       "        <matplotlib.axes._subplots.AxesSubplot object at 0x7fec03dc4df0>]],\n",
       "      dtype=object)"
      ]
     },
     "execution_count": 13,
     "metadata": {},
     "output_type": "execute_result"
    },
    {
     "data": {
      "image/png": "[encoded data removed]",
      "text/plain": [
       "<Figure size 432x288 with 9 Axes>"
      ]
     },
     "metadata": {
      "needs_background": "light"
     },
     "output_type": "display_data"
    }
   ],
   "source": [
    "data.hist()"
   ]
  },
  {
   "cell_type": "code",
   "execution_count": null,
   "metadata": {},
   "outputs": [],
   "source": []
  }
 ],
 "metadata": {
  "kernelspec": {
   "display_name": "Python 3",
   "language": "python",
   "name": "python3"
  },
  "language_info": {
   "codemirror_mode": {
    "name": "ipython",
    "version": 3
   },
   "file_extension": ".py",
   "mimetype": "text/x-python",
   "name": "python",
   "nbconvert_exporter": "python",
   "pygments_lexer": "ipython3",
   "version": "3.8.2"
  }
 },
 "nbformat": 4,
 "nbformat_minor": 4
}
