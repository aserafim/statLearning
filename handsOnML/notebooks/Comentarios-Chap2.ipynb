{
 "cells": [
  {
   "cell_type": "markdown",
   "metadata": {
    "colab_type": "text",
    "id": "AenJlzt8jSQu"
   },
   "source": [
    "<h2> Notas </h2>"
   ]
  },
  {
   "cell_type": "markdown",
   "metadata": {
    "colab_type": "text",
    "id": "HnmhTD_9jZSs"
   },
   "source": [
    "<h4>Checklist</h4>\n",
    "<p>A seguir temos um checklist de 8 passos principais para qualquer projeto de Machine Learning. Obviamente isso não é uma regra, mas pode orientá-lo na organização de seus projetos.</p><br>\n",
    "<ol>\n",
    "    <li>Estruture o problema e tenha uma visão macro dele;</li><br> \n",
    "        <li>Colete os dados;</li><br>\n",
    "        <li>Explore os dados afim de ter insights;</li><br>\n",
    "        <li>Prepare os dados para adaptá-los aos padrões de modelos de ML;</li><br>\n",
    "    <li>Explore diferentes modelos e cria uma lista com os melhores para essa solução;</li><br>\n",
    "    <li>Refine seus modelos e combine-os com outros para alcançar uma solução mais sofisticada e performática;</li><br>\n",
    "    <li>Apresente sua solução;</li><br>\n",
    "    <li>Execute, monitore e mantenha sua solução.</li><br>\n",
    "</ol>"
   ]
  },
  {
   "cell_type": "code",
   "execution_count": null,
   "metadata": {},
   "outputs": [],
   "source": []
  }
 ],
 "metadata": {
  "colab": {
   "authorship_tag": "ABX9TyNlreW+BZZS7e6+ioQtgJ/E",
   "name": "Comentarios-Chap1.ipynb",
   "provenance": []
  },
  "kernelspec": {
   "display_name": "Python 2",
   "language": "python",
   "name": "python2"
  },
  "language_info": {
   "codemirror_mode": {
    "name": "ipython",
    "version": 2
   },
   "file_extension": ".py",
   "mimetype": "text/x-python",
   "name": "python",
   "nbconvert_exporter": "python",
   "pygments_lexer": "ipython2",
   "version": "2.7.17"
  }
 },
 "nbformat": 4,
 "nbformat_minor": 1
}
