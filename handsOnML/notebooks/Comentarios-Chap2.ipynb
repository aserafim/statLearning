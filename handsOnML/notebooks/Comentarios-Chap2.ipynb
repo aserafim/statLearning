{
 "cells": [
  {
   "cell_type": "markdown",
   "metadata": {
    "colab_type": "text",
    "id": "AenJlzt8jSQu"
   },
   "source": [
    "<h2> Notas </h2>"
   ]
  },
  {
   "cell_type": "markdown",
   "metadata": {
    "colab_type": "text",
    "id": "HnmhTD_9jZSs"
   },
   "source": [
    "<h4>Checklist</h4>\n",
    "<p>A seguir temos um checklist de 8 passos principais para qualquer projeto de Machine Learning. Obviamente isso não é uma regra, mas pode orientá-lo na organização de seus projetos.</p><br>\n",
    "<ol>\n",
    "    <li>Estruture o problema e tenha uma visão macro dele;</li><br> \n",
    "        <li>Colete os dados;</li><br>\n",
    "        <li>Explore os dados afim de ter insights;</li><br>\n",
    "        <li>Prepare os dados para adaptá-los aos padrões de modelos de ML;</li><br>\n",
    "    <li>Explore diferentes modelos e cria uma lista com os melhores para essa solução;</li><br>\n",
    "    <li>Refine seus modelos e combine-os com outros para alcançar uma solução mais sofisticada e performática;</li><br>\n",
    "    <li>Apresente sua solução;</li><br>\n",
    "    <li>Execute, monitore e mantenha sua solução.</li><br>\n",
    "</ol><br>\n",
    "\n",
    "   <h5>1. Conheça o problema</h5>\n",
    "   <p>Uma primeira questão importante a fazer ao seu chefe é \"Qual o objetivo do modelo? O que se espera alcançar com ele?\". De acordo com nossa \"história\" o modelo fará parte de uma estrutura maior, alimentará outro modelo que eu auxiliará na tomada de decisões sobre quando vale a pena ou não investir numa determinada região.</p>\n",
    "   <p>Além disso é importante saber como o problema é tratado atualmente. O nosso chefe diz que o processo hoje é feito manualmente por um grupo de analistas, demandando muito dinheiro e tempo. Além disso, um dos grandes problemas da abordagem atual é o fato de que a taxa de erro cometida pelos analistas é de aproximadamente 15%.</p><br>\n",
    "   \n",
    "   <h5>2. <i>Frame</i> the problem</h5>\n",
    "   <p>Agora é necessário definir como será nosso modelo: supervisionado, não-supervisionado ou aprenderá por reforço? A tarefa é uma tarefa de classificação, regressão ou algo similar? Usaremos um sistema de aprendizado em lote ou online?</p>\n",
    "   \n",
    "   <br><h5>3. Escolha uma medida de desempenho</h5>\n",
    "   <p>Precisamo escolher qual medida utilizaremos para medir o desempenho do nosso modelo. Uma medida típica em casos de regressão é RMSE(root mean square error) - ou, em português, <i>média quadrática dos erros</i>; que calcula o desvio padrão dos erros cometidos pelo sistema.</p>\n",
    "    <br><h5>4. Cheque as premissas</h5>\n",
    "    <p>Sabemos que a saída do nosso modelo alimentará um outro modelo de ML e que nossa saída deverá ser em valores reais ou seja, queremos descobrir os preços médios das residências em um distrito. Mas imagine que o sistema seguinte, que se alimentará de nossas saídas, não precise do valor real dos preços, mas sim um agrupamento dos mesmo como: <i>barato, na média e caro</i>. Desta forma não precisaríamos desenvolver um sistema capaz de resolver um problema de regressão, mas sim de classificação.</p>\n",
    "    <p>É importante checar essas questões antes de colocar a mão na massa, uma vez que elas podem nos poupar muito esforço desnecessário ou mesmo retrabalho.</p>"
   ]
  },
  {
   "cell_type": "markdown",
   "metadata": {},
   "source": [
    "<h4>Regra do <i>68-95-99.7</i></h4>\n",
    "<p>Quando estamos trabalhando com problemas de regressão é comum utilizarmos a métrica do RMSE para medirmos o desempenho do nosso modelo. Existe uma regra que diz que se uma distribuição segue uma normal, ou seja, se é uma <i>distribuição Gaussiana</i>, então sendo <strong>X</strong> o valor da RMSE podemos dizer que 68% dos dados se encontram a uma distância de 1 desvio padrão com relação a média. 95% estão a distância de dois desvios padrão e 99.7% a três desvios padrão da média.</p><br>"
   ]
  },
  {
   "cell_type": "markdown",
   "metadata": {},
   "source": [
    "<h4>Métricas</h4><br>\n",
    "<h5>RMSE</h5>\n",
    "Como dito anteriormente, dado um conjunto m, RMSE(X,h) = sqrt(1/m)sum(((h(x) - y)^)2). Em outras palavras, para cada h(x), ou seja, cada valor predito pela nossa função h, calculamos a distância desse valor para a média e elevamos ao quadrado. Somamos todos esses valores e calculamos a média deles. Essa é uma métrica muito utilizada em problems de regressão.\n",
    "\n",
    "<br><h5>MAE</h5>\n",
    "O MAE(do inglês média do desvio absoluto) é similar a anterior, no entanto não calculamos o quadrado dos erros. Também é muito utilizada em problemas de regressão, no entanto é mais aplicada a casos onde se tem muitos outliers."
   ]
  },
  {
   "cell_type": "code",
   "execution_count": null,
   "metadata": {},
   "outputs": [],
   "source": []
  }
 ],
 "metadata": {
  "colab": {
   "authorship_tag": "ABX9TyNlreW+BZZS7e6+ioQtgJ/E",
   "name": "Comentarios-Chap1.ipynb",
   "provenance": []
  },
  "kernelspec": {
   "display_name": "Python 3",
   "language": "python",
   "name": "python3"
  },
  "language_info": {
   "codemirror_mode": {
    "name": "ipython",
    "version": 3
   },
   "file_extension": ".py",
   "mimetype": "text/x-python",
   "name": "python",
   "nbconvert_exporter": "python",
   "pygments_lexer": "ipython3",
   "version": "3.8.2"
  }
 },
 "nbformat": 4,
 "nbformat_minor": 1
}
