{
 "cells": [
  {
   "cell_type": "markdown",
   "metadata": {
    "colab_type": "text",
    "id": "WPul3KvVX881"
   },
   "source": [
    "<h2>Exercícios comentados do Capítulo 2</h2>"
   ]
  },
  {
   "cell_type": "markdown",
   "metadata": {
    "colab_type": "text",
    "id": "omp9JUi4UgPz"
   },
   "source": [
    "<h4> Exercicio 1 </h4><br>\n",
    "\n",
    "<p>Try a Support Vector Machine regressor (sklearn.svm.SVR), with various hyper‐parameters such as kernel=\"linear\" (with various values for the C hyperpara‐meter) or kernel=\"rbf\" (with various values for the C and gamma hyperparameters). Don’t worry about what these hyperparameters mean for now.</p><br> How does the best SVR predictor perform?</p><br><br>\n",
    "\n",
    "<h5>Solução:</h5><br>\n",
    "\n",
    "</p><br>...</p><br><br>"
   ]
  },
  {
   "cell_type": "markdown",
   "metadata": {
    "colab": {},
    "colab_type": "code",
    "id": "VU2iTfQpVVwo"
   },
   "source": [
    "<h4> Exercicio 2 </h4><br>\n",
    "\n",
    "<p>Try replacingGridSearchCVwithRandomizedSearchCV.</p><br>\n",
    "\n",
    "<h5>Solução:</h5><br>\n",
    "\n",
    "</p><br>...</p><br><br>"
   ]
  },
  {
   "cell_type": "markdown",
   "metadata": {},
   "source": [
    "<h4> Exercicio 3 </h4><br>\n",
    "\n",
    "<p>Try adding a transformer in the preparation pipeline to select only the most important attributes.</p><br>\n",
    "\n",
    "<h5>Solução:</h5><br>\n",
    "\n",
    "</p><br>...</p><br><br>"
   ]
  },
  {
   "cell_type": "markdown",
   "metadata": {},
   "source": [
    "<h4> Exercicio 4 </h4><br>\n",
    "\n",
    "<p>Try creating a single pipeline that does the full data preparation plus the final prediction.</p><br>\n",
    "\n",
    "<h5>Solução:</h5><br>\n",
    "\n",
    "</p><br>...</p><br><br>"
   ]
  },
  {
   "cell_type": "markdown",
   "metadata": {},
   "source": [
    "<h4> Exercicio 5 </h4><br>\n",
    "\n",
    "<p>Automatically explore some preparation options using GridSearchCV.</p><br>\n",
    "\n",
    "<h5>Solução:</h5><br>\n",
    "\n",
    "</p><br>...</p><br><br>"
   ]
  },
  {
   "cell_type": "code",
   "execution_count": null,
   "metadata": {},
   "outputs": [],
   "source": []
  }
 ],
 "metadata": {
  "colab": {
   "authorship_tag": "ABX9TyOdbvc5tog+9mvA3iUdsMxC",
   "name": "Exorcicios-Chap1.ipynb",
   "provenance": []
  },
  "kernelspec": {
   "display_name": "Python 2",
   "language": "python",
   "name": "python2"
  },
  "language_info": {
   "codemirror_mode": {
    "name": "ipython",
    "version": 2
   },
   "file_extension": ".py",
   "mimetype": "text/x-python",
   "name": "python",
   "nbconvert_exporter": "python",
   "pygments_lexer": "ipython2",
   "version": "2.7.17"
  }
 },
 "nbformat": 4,
 "nbformat_minor": 1
}
